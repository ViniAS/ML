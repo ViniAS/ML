{
 "cells": [
  {
   "cell_type": "code",
   "execution_count": 12,
   "id": "435db6f4-e15b-4f9b-8cd0-b9b5dedd9e79",
   "metadata": {
    "tags": []
   },
   "outputs": [],
   "source": [
    "import numpy as np\n",
    "import pandas as pd\n",
    "import matplotlib.pyplot as plt\n",
    "from sklearn.datasets import load_breast_cancer\n",
    "import seaborn as sns\n",
    "import io\n",
    "import base64\n",
    "\n",
    "import torch\n",
    "import torch.nn as nn\n",
    "import torch.nn.functional as F\n",
    "import torchvision\n",
    "from torchvision import datasets\n",
    "import torchvision.transforms as transforms\n",
    "from torch.utils.data import random_split, DataLoader\n",
    "import tqdm \n",
    "\n",
    "import time"
   ]
  },
  {
   "cell_type": "markdown",
   "id": "d3a8837d-5164-4be5-9997-fdd0a687f07e",
   "metadata": {},
   "source": [
    "**Instruções gerais:** Sua submissão <u>deve</u> conter: \n",
    "1. Um \"ipynb\" com seu código e as soluções dos problemas\n",
    "2. Uma versão pdf do ipynb\n",
    "\n",
    "Caso você opte por resolver as questões de \"papel e caneta\" em um editor de $\\LaTeX$ externo, o inclua no final da versão pdf do 'ipynb'--- submetendo um <u>único pdf</u>."
   ]
  },
  {
   "cell_type": "markdown",
   "id": "58678575-bb0a-4ff2-85d2-f1ff100806f2",
   "metadata": {
    "tags": []
   },
   "source": [
    "# Trabalho de casa 07: Redução de dimensionalidade"
   ]
  },
  {
   "cell_type": "markdown",
   "id": "af932776-d827-4ee8-b749-c1aec78faadf",
   "metadata": {},
   "source": [
    "**1.** Considere o conjunto de dados disponível em penguins.csv, organizado em 5\n",
    "colunas, sendo 4 colunas de atributos e a última a classe do padrão. Os dados\n",
    "referem-se a medições anatômicas de pinguins da Antártida, classificados nas\n",
    "espécies Adelie, Chinstrap e Gentoo. Maiores detalhes sobre os dados podem\n",
    "ser conferidos em https://allisonhorst.github.io/palmerpenguins/.\n",
    "\n",
    "**a)** Apresente a projeção em 2 dimensões dos padrões acima obtida pelo método PCA (análise dos componentes principais).\n",
    "\n",
    "**b)** Ainda considerando o item anterior, calcule e mostre a variância explicada obtida quando a dimensão projetada é modificada (1,2,3 ou 4).\n",
    "\n",
    "Normalize os dados antes de executar PCA. Implemente sua própria versão de PCA, mas verifique a corretude comparando contra alguma implementação popular (e.g., da biblioteca scikitlearn)."
   ]
  },
  {
   "cell_type": "code",
   "execution_count": 10,
   "id": "21701c8f-7d43-450e-9541-38aec817de0f",
   "metadata": {
    "tags": []
   },
   "outputs": [],
   "source": [
    "# Importando o dataset:\n",
    "data = torch.from_numpy(pd.read_csv(\"./penguins.csv\", header=None).to_numpy())"
   ]
  },
  {
   "cell_type": "code",
   "execution_count": null,
   "id": "08da941b-9134-46f4-a57c-6a9fcd709953",
   "metadata": {},
   "outputs": [],
   "source": []
  },
  {
   "cell_type": "markdown",
   "id": "62afffa2-c92d-436c-8ef2-16880b9a0977",
   "metadata": {},
   "source": [
    "**2.** Implemente um autoencoder determinísitco para o banco de dados MNIST, que já usamos em exercícios anteriores. Você pode escolher utilizar tanto CNN como MLP no encoder/decoder. No entanto, o encoder deve mapear as imagens no $\\mathbb{R}^2$, para podermos visualizar as representações latentes no plano. Use o conjunto de validação para fazer early stopping. Você também pode monitorar o erro na validação para anelar a taxa de aprendizado (usando um scheduler). Finalmente, mostre a projeção das imagens de teste no espaço latente e comente qualitativamente os embeddings obtidos."
   ]
  },
  {
   "cell_type": "code",
   "execution_count": 50,
   "id": "09d92012-5fb7-4cca-8cbb-d14ab93bfd84",
   "metadata": {
    "tags": []
   },
   "outputs": [],
   "source": [
    "train_val_dataset = datasets.MNIST(\n",
    "    root=\"./data\",\n",
    "    train=True,\n",
    "    download=True,\n",
    "    transform=transforms.ToTensor(),\n",
    ")\n",
    "\n",
    "test_dataset = datasets.MNIST(\n",
    "    root=\"./data\",\n",
    "    train=False,\n",
    "    download=True,\n",
    "    transform=transforms.ToTensor(),\n",
    ")"
   ]
  },
  {
   "cell_type": "code",
   "execution_count": 48,
   "id": "563eb133-7a4f-4e5f-993a-3dff027fbc1e",
   "metadata": {
    "tags": []
   },
   "outputs": [
    {
     "data": {
      "image/png": "[encoded data removed]",
      "text/plain": [
       "<Figure size 1000x500 with 10 Axes>"
      ]
     },
     "metadata": {},
     "output_type": "display_data"
    }
   ],
   "source": [
    "fig, ax = plt.subplots(2,5, figsize=(10,5))\n",
    "\n",
    "for i in range(10):\n",
    "    ax[i//5,i%5].imshow(train_val_dataset.data[i])\n",
    "    ax[i//5,i%5].axis('off')\n",
    "    \n",
    "fig.suptitle(\"Samples from train data\")\n",
    "fig.tight_layout()"
   ]
  },
  {
   "cell_type": "code",
   "execution_count": null,
   "id": "dc20f130-84d8-495f-bebf-748dfcd8a347",
   "metadata": {},
   "outputs": [],
   "source": []
  }
 ],
 "metadata": {
  "kernelspec": {
   "display_name": "Python 3 (ipykernel)",
   "language": "python",
   "name": "python3"
  },
  "language_info": {
   "codemirror_mode": {
    "name": "ipython",
    "version": 3
   },
   "file_extension": ".py",
   "mimetype": "text/x-python",
   "name": "python",
   "nbconvert_exporter": "python",
   "pygments_lexer": "ipython3",
   "version": "3.10.12"
  }
 },
 "nbformat": 4,
 "nbformat_minor": 5
}
