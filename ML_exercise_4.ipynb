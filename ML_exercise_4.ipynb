{
 "cells": [
  {
   "cell_type": "code",
   "execution_count": 15,
   "id": "435db6f4-e15b-4f9b-8cd0-b9b5dedd9e79",
   "metadata": {
    "ExecuteTime": {
     "end_time": "2024-04-04T01:38:55.210093Z",
     "start_time": "2024-04-04T01:38:55.207704Z"
    }
   },
   "outputs": [],
   "source": [
    "import numpy as np\n",
    "from sklearn.cluster import KMeans\n",
    "from sklearn.datasets import fetch_california_housing\n",
    "from sklearn.model_selection import train_test_split\n",
    "import matplotlib.pyplot as plt\n",
    "from sklearn.neighbors import KNeighborsRegressor"
   ]
  },
  {
   "cell_type": "markdown",
   "id": "d3a8837d-5164-4be5-9997-fdd0a687f07e",
   "metadata": {},
   "source": [
    "**Instruções gerais:** Sua submissão <u>deve</u> conter: \n",
    "1. Um \"ipynb\" com seu código e as soluções dos problemas\n",
    "2. Uma versão pdf do ipynb\n",
    "\n",
    "Caso você opte por resolver as questões de \"papel e caneta\" em um editor de $\\LaTeX$ externo, o inclua no final da versão pdf do 'ipynb'--- submetendo um <u>único pdf</u>."
   ]
  },
  {
   "cell_type": "markdown",
   "id": "58678575-bb0a-4ff2-85d2-f1ff100806f2",
   "metadata": {
    "tags": []
   },
   "source": [
    "# Trabalho de casa 04: Seleção de modelo e hiperparametros"
   ]
  },
  {
   "cell_type": "markdown",
   "id": "af932776-d827-4ee8-b749-c1aec78faadf",
   "metadata": {},
   "source": [
    "**1.** O código abaixo carrega o banco de dados *California housing*. Divida o banco de dados em treino, teste e validação. Use o conjunto de validação para escolher o coeficiente de regularização $c$ para um modelo de regressão linear com penalização $L_2$. Use a fórmula analítica para estimar os pesos do modelo de regressão. Plote os MSE no conjunto de trieno e validação em função de $c$. Comente o resultado. Avalie a performance do modelo ótimo no conjunto de teste e também comente."
   ]
  },
  {
   "cell_type": "code",
   "execution_count": 16,
   "id": "21701c8f-7d43-450e-9541-38aec817de0f",
   "metadata": {
    "ExecuteTime": {
     "end_time": "2024-04-04T01:38:55.229721Z",
     "start_time": "2024-04-04T01:38:55.211044Z"
    }
   },
   "outputs": [],
   "source": [
    "SEED = 42\n",
    "np.random.seed(SEED)\n",
    "\n",
    "X, y = fetch_california_housing(return_X_y=True)\n",
    "X_train, X_test, y_train, y_test = train_test_split(X, y, test_size=0.3, random_state=SEED)\n",
    "X_test, X_val, y_test, y_val = train_test_split(X_test, y_test, test_size=0.5, random_state=SEED)\n"
   ]
  },
  {
   "cell_type": "code",
   "outputs": [],
   "source": [
    "def linear_regression(X, y, c):\n",
    "    n, m = X.shape\n",
    "    I = np.eye(m)\n",
    "    w = np.linalg.solve(X.T @ X + c * I, X.T @ y)\n",
    "    return w\n",
    "\n",
    "def mse(y, y_pred):\n",
    "    return np.mean((y - y_pred) ** 2)\n",
    "\n",
    "def predict(X, w):\n",
    "    return X @ w\n"
   ],
   "metadata": {
    "collapsed": false,
    "ExecuteTime": {
     "end_time": "2024-04-04T01:38:55.236463Z",
     "start_time": "2024-04-04T01:38:55.230745Z"
    }
   },
   "id": "412996cb94d0657d",
   "execution_count": 17
  },
  {
   "cell_type": "code",
   "outputs": [],
   "source": [
    "c_values = np.logspace(-4,4, num=10000)\n",
    "mse_val = []\n",
    "mse_train = []\n",
    "for c in c_values:\n",
    "    w = linear_regression(X_train, y_train, c)\n",
    "    y_val_pred = predict(X_val, w)\n",
    "    y_train_pred = predict(X_train, w)\n",
    "    mse_val.append(mse(y_val, y_val_pred))\n",
    "    mse_train.append(mse(y_train, y_train_pred))\n"
   ],
   "metadata": {
    "collapsed": false,
    "ExecuteTime": {
     "end_time": "2024-04-04T01:38:58.641916Z",
     "start_time": "2024-04-04T01:38:55.237488Z"
    }
   },
   "id": "947baf0118b07024",
   "execution_count": 18
  },
  {
   "cell_type": "code",
   "outputs": [
    {
     "data": {
      "text/plain": "<Figure size 640x480 with 1 Axes>",
      "image/png": "[encoded data removed]"
     },
     "metadata": {},
     "output_type": "display_data"
    }
   ],
   "source": [
    "plt.plot(c_values, mse_val)\n",
    "plt.plot(c_values, mse_train)\n",
    "plt.xscale('log')\n",
    "plt.xlabel('c')\n",
    "plt.ylabel('MSE')\n",
    "plt.legend(['Validation', 'Train'])\n",
    "plt.title('MSE vs c')\n",
    "plt.show()"
   ],
   "metadata": {
    "collapsed": false,
    "ExecuteTime": {
     "end_time": "2024-04-04T01:38:58.970329Z",
     "start_time": "2024-04-04T01:38:58.643290Z"
    }
   },
   "id": "f426a61ecff66a5c",
   "execution_count": 19
  },
  {
   "cell_type": "markdown",
   "id": "54935fda-2b5b-462e-87fa-897e97408f29",
   "metadata": {},
   "source": [
    "**2.** Implemente 5-fold *nested cross-validation* para escolher entre os métodos $k$-NN e regressão linear com regularização $L_2$ (similar ao exercício acima). Considere $k \\in \\{1, 2, 3, 4, 5\\}$ e $c \\in \\{0, 1, 10, 100\\}$. Use o mesmo banco de dados do último exercício e comente o resultado. Em média, qual valor de hiperparametro resulta na melhor performance para o método escolhido (use 5-fold cross validation regular para isso)?\n",
    "\n",
    "Obs.: para simplificar sua vida, use o $k$-NN para regressão do scikit-learning com distância euclidiana.\n",
    "\n",
    "Obs. 2: para mais informações sobre o $K$-fold *nested cross-validation*, recomendamos esses materiais:\n",
    "- [Algoritmo e breve explicação](https://weina.me/nested-cross-validation): a autora apresenta uma boa explicação do assunto acompanhada de uma descrição do algoritmo;\n",
    "- [Ilustrações e explicação acompanhada de código](https://ploomber.io/blog/nested-cv/): ajuda a visualizar melhor o que é *nested cross-validation*; vale lembrar que seu código, diferente do dos exemplos desse link, não deve utilizar scikit-learn para implementar a *cross-validation*. "
   ]
  },
  {
   "cell_type": "code",
   "execution_count": 20,
   "id": "3c0c1a11-7e42-4f54-af38-c6cde8cf5b7d",
   "metadata": {
    "ExecuteTime": {
     "end_time": "2024-04-04T01:39:01.072267Z",
     "start_time": "2024-04-04T01:38:58.971268Z"
    }
   },
   "outputs": [],
   "source": [
    "c_v = [0, 1, 10, 100]\n",
    "\n",
    "def split_folds(X, y, k):\n",
    "    np.random.shuffle([X,y])\n",
    "    X_folds = np.array_split(X, k)\n",
    "    y_folds = np.array_split(y, k)\n",
    "    return X_folds, y_folds\n",
    "\n",
    "\n",
    "X_folds, y_folds = split_folds(X, y, 5)\n",
    "mse_knn = []\n",
    "mse_lr = []\n",
    "mse_knn_folds = []\n",
    "mse_lr_folds = []\n",
    "for i in range(5):\n",
    "    X_test_fold = X_folds[i]\n",
    "    y_test_fold = y_folds[i]\n",
    "    for j in range(5):\n",
    "        if j != i:\n",
    "            X_train_fold = [X_folds[l] for l in range(5) if l != i and l != j]\n",
    "            y_train_fold = [y_folds[l] for l in range(5) if l != i and l != j]\n",
    "            X_train_fold = np.concatenate(X_train_fold)\n",
    "            y_train_fold = np.concatenate(y_train_fold)\n",
    "            X_val_fold = X_folds[j]\n",
    "            y_val_fold = y_folds[j]\n",
    "            mse_knn_temp = []\n",
    "            for k in range(1,5):\n",
    "                knn = KNeighborsRegressor(n_neighbors=k)\n",
    "                knn.fit(X_train_fold, y_train_fold)\n",
    "                y_val_pred = knn.predict(X_val_fold)\n",
    "                mse_knn_temp.append(mse(y_val_fold, y_val_pred))\n",
    "            mse_knn_folds.append(mse_knn_temp)\n",
    "            \n",
    "            mse_lr_temp = []\n",
    "            for c in c_v:\n",
    "                w = linear_regression(X_train_fold, y_train_fold, c)\n",
    "                y_val_pred = predict(X_val_fold, w)\n",
    "                mse_lr_temp.append(mse(y_val_fold, y_val_pred))\n",
    "            mse_lr_folds.append(mse_lr_temp)\n",
    "    min_folds_knn = np.argmin(np.mean(mse_knn_folds, axis=0))+1\n",
    "    min_folds_lr = c_v[np.argmin(np.mean(mse_lr_folds, axis=0))]\n",
    "    X_train = [X_folds[l] for l in range(k) if l != i]\n",
    "    y_train = [y_folds[l] for l in range(k) if l != i]\n",
    "    X_train = np.concatenate(X_train)\n",
    "    y_train = np.concatenate(y_train)\n",
    "    knn = KNeighborsRegressor(n_neighbors=min_folds_knn)\n",
    "    knn.fit(X_train, y_train)\n",
    "    y_test_pred = knn.predict(X_test_fold)\n",
    "    mse_knn.append((mse(y_test_fold, y_test_pred), min_folds_knn))\n",
    "    w = linear_regression(X_train, y_train, min_folds_lr)\n",
    "    y_test_pred = predict(X_test_fold, w)\n",
    "    mse_lr.append((mse(y_test_fold, y_test_pred), min_folds_lr))            "
   ]
  },
  {
   "cell_type": "code",
   "outputs": [
    {
     "name": "stdout",
     "output_type": "stream",
     "text": [
      "MSE knn: [(1.1989489668675235, 4), (1.1703666935953714, 4), (1.538374930076944, 4), (1.2954927741888096, 4), (1.4749280826539184, 4)]\n",
      "MSE lr: [(0.6128767058143073, 0), (0.6479619782064051, 0), (0.7130914382408153, 0), (0.7030027208911875, 0), (0.6879244558063604, 0)]\n"
     ]
    }
   ],
   "source": [
    "print('MSE knn:', mse_knn)\n",
    "print('MSE lr:', mse_lr)"
   ],
   "metadata": {
    "collapsed": false,
    "ExecuteTime": {
     "end_time": "2024-04-04T01:39:01.076111Z",
     "start_time": "2024-04-04T01:39:01.073330Z"
    }
   },
   "id": "c7a9c1ca52b4feb1",
   "execution_count": 21
  },
  {
   "cell_type": "markdown",
   "id": "8f268c40-0ccb-4420-9100-4cb669d98521",
   "metadata": {},
   "source": [
    "# Exercício de \"papel e caneta\""
   ]
  },
  {
   "cell_type": "markdown",
   "id": "adf3e1ec-14cd-4bf8-bea4-20c06de871f3",
   "metadata": {
    "tags": []
   },
   "source": [
    "**1.** Nas nota de aula, derivamos o \"dilema viés-variância\" calculando o MSE esperado entre a função alvo de aprendizado $f$ e a predição do nosso modelo $h_{\\mathcal{D}}$:\n",
    "\n",
    "$$\n",
    "\\mathbb{E}_{x, \\mathcal{D}} \n",
    "    \\left[ \n",
    "        \\left( \n",
    "        h_{\\mathcal{D}}(x) - f\\left(x\\right) \n",
    "        \\right)^2\n",
    "    \\right] =\n",
    "\\mathbb{E}_{x}[\\underbrace{\\textrm{Var}_{\\mathcal{D}}[\n",
    "        h_{\\mathcal{D}}(x)]}_{\\text{ Variância} }] + \\mathbb{E}_{x} [ (\\underbrace{\\mathbb{E}_{\\mathcal{D}}[\n",
    "        h_{\\mathcal{D}}(x) - f\\left(x\\right)]  }_{\\text{Viés}})^2] \n",
    "    ].\n",
    "$$\n",
    "\n",
    "Com isso em mente, adapte nossa derivação para o caso em que as respostas de teste $f(x)$ são corrompidas por um ruído aditivo aleatório $\\epsilon$ com média zero, i.e., observamos $f^\\prime(x) = f(x) + \\epsilon$. Mais concretamente, trabalhe a seguinte esperança para derivar uma decomposição similar à da nota de aula:\n",
    "$$\n",
    "\\mathbb{E}_{x, \\epsilon, \\mathcal{D}} \n",
    "    \\left[\n",
    "        \\left( \n",
    "        h_{\\mathcal{D}}(x) - f^\\prime\\left(x\\right)\n",
    "        \\right)^2\n",
    "    \\right].\n",
    "$$\n",
    "\n",
    "Compare a diferença entre a decomposição que você obteve e a da nota de aula.\n",
    "\n",
    "Dica: sua decomposição deve se diferenciar da acima em apenas um termo aditivo, que envolve uma esperança sobre $x$ e $y$.\n"
   ]
  },
  {
   "cell_type": "markdown",
   "source": [
    "### Resposta\n",
    "\n",
    "$\n",
    "\\begin{aligned}\n",
    "\\mathbb{E}_{x, \\epsilon, \\mathcal{D}} \\left[\\left( h_{\\mathcal{D}}(x) - f^\\prime\\left(x\\right)\\right)^2\\right] &= \\mathbb{E}_{x, \\epsilon, \\mathcal{D}} \\left[\\left( h_{\\mathcal{D}}(x) - f\\left(x\\right) - \\epsilon\\right)^2\\right]\\\\ \n",
    "&= \\mathbb{E}_{x, \\epsilon, \\mathcal{D}} \\left[h_{\\mathcal{D}}(x)^2 + f\\left(x\\right)^2 + \\epsilon^2 - 2h_{\\mathcal{D}}(x)f\\left(x\\right) - 2h_{\\mathcal{D}}(x)\\epsilon + 2f(x)\\epsilon\\right]\\\\\n",
    "&= \\mathbb{E}_{x, \\epsilon, \\mathcal{D}} \\left[\\left( h_{\\mathcal{D}}(x) - f\\left(x\\right)\\right)^2 - 2\\left( h_{\\mathcal{D}}(x) - f\\left(x\\right)\\right)\\epsilon + \\epsilon^2\\right]\\\\\n",
    "&= \\mathbb{E}_{x, \\epsilon, \\mathcal{D}} \\left[\\left( h_{\\mathcal{D}}(x) - f\\left(x\\right)\\right)^2\\right] - 2\\mathbb{E}_{x, \\epsilon, \\mathcal{D}} \\left[\\left( h_{\\mathcal{D}}(x) - f\\left(x\\right)\\right)\\epsilon\\right] + \\mathbb{E}_{x, \\epsilon, \\mathcal{D}} \\left[\\epsilon^2\\right]\\\\\n",
    "&= \\mathbb{E}_{x, \\mathcal{D}} \\left[\\left( h_{\\mathcal{D}}(x) - f\\left(x\\right)\\right)^2\\right] - 2\\mathbb{E}_{x, \\epsilon, \\mathcal{D}} \\left[\\left( h_{\\mathcal{D}}(x) - f\\left(x\\right)\\right)\\epsilon\\right] + \\mathbb{E}_{\\epsilon} \\left[\\epsilon^2\\right]\\\\\n",
    "\\end{aligned}\n",
    "$\n",
    "\n",
    "como $\\mathbb{E}_{\\epsilon}[\\epsilon] = 0$, temos:\n",
    "$$\\mathbb{E}_{x, \\mathcal{D}} \\left[\\left( h_{\\mathcal{D}}(x) - f\\left(x\\right)\\right)^2\\right] + \\mathbb{E}_{\\epsilon} \\left[\\epsilon^2\\right]\n",
    "$$"
   ],
   "metadata": {
    "collapsed": false
   },
   "id": "d819342058028ed8"
  }
 ],
 "metadata": {
  "kernelspec": {
   "display_name": "Python 3 (ipykernel)",
   "language": "python",
   "name": "python3"
  },
  "language_info": {
   "codemirror_mode": {
    "name": "ipython",
    "version": 3
   },
   "file_extension": ".py",
   "mimetype": "text/x-python",
   "name": "python",
   "nbconvert_exporter": "python",
   "pygments_lexer": "ipython3",
   "version": "3.10.12"
  }
 },
 "nbformat": 4,
 "nbformat_minor": 5
}
